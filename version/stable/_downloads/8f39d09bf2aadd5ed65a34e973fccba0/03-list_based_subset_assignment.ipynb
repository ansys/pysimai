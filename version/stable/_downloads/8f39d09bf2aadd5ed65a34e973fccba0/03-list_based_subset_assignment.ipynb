{
  "cells": [
    {
      "cell_type": "markdown",
      "metadata": {},
      "source": [
        "\n\n# List-based subset assignment\n\nThis example demonstrates how to distribute your dataset between Test\nand Training subsets using lists.\n"
      ]
    },
    {
      "cell_type": "markdown",
      "metadata": {},
      "source": [
        "## Import necessary libraries\n\n"
      ]
    },
    {
      "cell_type": "code",
      "execution_count": null,
      "metadata": {
        "collapsed": false
      },
      "outputs": [],
      "source": [
        "import ansys.simai.core"
      ]
    },
    {
      "cell_type": "markdown",
      "metadata": {},
      "source": [
        "## Create lists\nList the data to be used for the test set.\n\n"
      ]
    },
    {
      "cell_type": "code",
      "execution_count": null,
      "metadata": {
        "collapsed": false
      },
      "outputs": [],
      "source": [
        "# CAUTION:\n# All training data that are not included into the following list will be\n# assigned the training subset\nTEST_LIST = [\"My_td_1\", \"My_td_2\"]"
      ]
    },
    {
      "cell_type": "markdown",
      "metadata": {},
      "source": [
        "## Connect to the platform\nConnect to the SimAI platform. Refer to the `anchor-credentials`\nsection of the documentation to adapt the connection type.\n\n"
      ]
    },
    {
      "cell_type": "code",
      "execution_count": null,
      "metadata": {
        "collapsed": false
      },
      "outputs": [],
      "source": [
        "simai = ansys.simai.core.SimAIClient(organization=\"My_organization_name\")\nproject = simai.projects.get(name=\"My_project_name\")"
      ]
    },
    {
      "cell_type": "markdown",
      "metadata": {},
      "source": [
        "## Assign subsets\nAssign a subset to each dataset (list) you created.\n\n"
      ]
    },
    {
      "cell_type": "code",
      "execution_count": null,
      "metadata": {
        "collapsed": false
      },
      "outputs": [],
      "source": [
        "td_list = project.data\nfor td in td_list:\n    if td.name in TEST_LIST:\n        td.assign_subset(project, \"Test\")\n    else:\n        td.assign_subset(project, \"Training\")"
      ]
    }
  ],
  "metadata": {
    "kernelspec": {
      "display_name": "Python 3",
      "language": "python",
      "name": "python3"
    },
    "language_info": {
      "codemirror_mode": {
        "name": "ipython",
        "version": 3
      },
      "file_extension": ".py",
      "mimetype": "text/x-python",
      "name": "python",
      "nbconvert_exporter": "python",
      "pygments_lexer": "ipython3",
      "version": "3.13.7"
    }
  },
  "nbformat": 4,
  "nbformat_minor": 0
}