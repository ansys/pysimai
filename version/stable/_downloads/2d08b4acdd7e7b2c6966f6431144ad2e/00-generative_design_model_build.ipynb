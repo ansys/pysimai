{
  "cells": [
    {
      "cell_type": "markdown",
      "metadata": {},
      "source": [
        "\n# Script 1 - Building a model to generate new designs\n\nThis example demonstrates how to configure, train and build a model that will generate new designs.\n"
      ]
    },
    {
      "cell_type": "markdown",
      "metadata": {},
      "source": [
        "## Import necessary libraries\n\n"
      ]
    },
    {
      "cell_type": "code",
      "execution_count": null,
      "metadata": {
        "collapsed": false
      },
      "outputs": [],
      "source": [
        "import os\n\nimport ansys.simai.core\nfrom ansys.simai.core.data.geomai.models import GeomAIModelConfiguration\nfrom ansys.simai.core.errors import NotFoundError"
      ]
    },
    {
      "cell_type": "markdown",
      "metadata": {},
      "source": [
        "## Create the client\nCreate a client to use the PySimAI library. This client will be the\nentrypoint of all \"SimAI\" and \"GeomAI\" objects.\n\n"
      ]
    },
    {
      "cell_type": "code",
      "execution_count": null,
      "metadata": {
        "collapsed": false
      },
      "outputs": [],
      "source": [
        "simai = ansys.simai.core.SimAIClient(organization=\"my_organization\")"
      ]
    },
    {
      "cell_type": "markdown",
      "metadata": {},
      "source": [
        "## Configure the client\nGenerative design objects are not part of a separate client to instantiate\n\u2014 they are exposed via the `geomai` property of a configured SimAIClient.\n\n"
      ]
    },
    {
      "cell_type": "code",
      "execution_count": null,
      "metadata": {
        "collapsed": false
      },
      "outputs": [],
      "source": [
        "client = simai.geomai"
      ]
    },
    {
      "cell_type": "markdown",
      "metadata": {},
      "source": [
        "## Find or create a \"GeomAI\" Project\nList all the projects available in the client instance:\n\n"
      ]
    },
    {
      "cell_type": "code",
      "execution_count": null,
      "metadata": {
        "collapsed": false
      },
      "outputs": [],
      "source": [
        "print(client.projects.list())"
      ]
    },
    {
      "cell_type": "markdown",
      "metadata": {},
      "source": [
        "Retrieve your project by its name or create it if it does not exist:\n\n"
      ]
    },
    {
      "cell_type": "code",
      "execution_count": null,
      "metadata": {
        "collapsed": false
      },
      "outputs": [],
      "source": [
        "my_dataset_path = \"path/to/your/data/folder\"\nmy_project_name = \"new-bracket-project\"\n\ntry:\n    project = client.projects.get(name=my_project_name)\nexcept NotFoundError:\n    project = client.projects.create(my_project_name)"
      ]
    },
    {
      "cell_type": "markdown",
      "metadata": {},
      "source": [
        "Set the retrieved project as the current project:\n\n"
      ]
    },
    {
      "cell_type": "code",
      "execution_count": null,
      "metadata": {
        "collapsed": false
      },
      "outputs": [],
      "source": [
        "client.set_current_project(my_project_name)\nprint(client.current_project)"
      ]
    },
    {
      "cell_type": "markdown",
      "metadata": {},
      "source": [
        "## Add the training data to the current project\nDisplay the number of data in the current project and list them all:\n\n"
      ]
    },
    {
      "cell_type": "code",
      "execution_count": null,
      "metadata": {
        "collapsed": false
      },
      "outputs": [],
      "source": [
        "print(len(project.data()))\nprint(project.data())"
      ]
    },
    {
      "cell_type": "markdown",
      "metadata": {},
      "source": [
        "To add the training data to the current project:\n\n- | If the training data has never been uploaded to the server,\n  | use the following script:\n\n"
      ]
    },
    {
      "cell_type": "code",
      "execution_count": null,
      "metadata": {
        "collapsed": false
      },
      "outputs": [],
      "source": [
        "for geometry_data_name in os.listdir(my_dataset_path):\n    geometry_data_file = os.path.join(my_dataset_path, geometry_data_name)\n    try:\n        td = client.training_data.create_from_file(file=geometry_data_file, project=project)\n        print(f\"Uploaded {geometry_data_name} -> ID: {td.id}\")\n    except Exception as e:\n        print(f\"Failed to upload {geometry_data_name}: {e}\")\n\nfor data in project.data():\n    print(data.name)"
      ]
    },
    {
      "cell_type": "markdown",
      "metadata": {},
      "source": [
        "- If the training data already exists on the server, do as follows:\n\nStep 1. Get the project by name:\n\n"
      ]
    },
    {
      "cell_type": "code",
      "execution_count": null,
      "metadata": {
        "collapsed": false
      },
      "outputs": [],
      "source": [
        "project_with_TD = client.projects.get(name=\"bracket-project\")"
      ]
    },
    {
      "cell_type": "markdown",
      "metadata": {},
      "source": [
        "Step 2. Get all training data in that project:\n\n"
      ]
    },
    {
      "cell_type": "code",
      "execution_count": null,
      "metadata": {
        "collapsed": false
      },
      "outputs": [],
      "source": [
        "data_items = project_with_TD.data()"
      ]
    },
    {
      "cell_type": "markdown",
      "metadata": {},
      "source": [
        "Step 3. Print the desired number of training data to add:\n(5 in this example)\n\n"
      ]
    },
    {
      "cell_type": "code",
      "execution_count": null,
      "metadata": {
        "collapsed": false
      },
      "outputs": [],
      "source": [
        "for td in data_items[:5]:\n    print(f\"{td.id}: {td.name}\")\n\ntraining_data_list = data_items[:5]"
      ]
    },
    {
      "cell_type": "markdown",
      "metadata": {},
      "source": [
        "Step 4. Add each data item to the current project:\n\n"
      ]
    },
    {
      "cell_type": "code",
      "execution_count": null,
      "metadata": {
        "collapsed": false
      },
      "outputs": [],
      "source": [
        "for td in training_data_list:\n    try:\n        td.add_to_project(project)\n        print(f\"\u2705 Added {f'{td.id}: {td.name}'} to current project.\")\n    except Exception as e:\n        print(f\"\u274c Failed to add {f'{td.id}: {td.name}'}: {e}\")"
      ]
    },
    {
      "cell_type": "markdown",
      "metadata": {},
      "source": [
        "## Remove data from the project\nUse the script below to remove data from the project:\n\n"
      ]
    },
    {
      "cell_type": "code",
      "execution_count": null,
      "metadata": {
        "collapsed": false
      },
      "outputs": [],
      "source": [
        "for data in project.data():\n    try:\n        data.remove_from_project(project)\n        print(f\"Removed: {data.name}\")\n    except Exception as e:\n        print(f\"Could not remove {data.name}: {e}\")"
      ]
    },
    {
      "cell_type": "markdown",
      "metadata": {},
      "source": [
        "Check the result of the removal by displaying the number of data in the\ncurrent project and listing them all:\n\n"
      ]
    },
    {
      "cell_type": "code",
      "execution_count": null,
      "metadata": {
        "collapsed": false
      },
      "outputs": [],
      "source": [
        "print(len(project.data()))\nprint(project.data())"
      ]
    },
    {
      "cell_type": "markdown",
      "metadata": {},
      "source": [
        "## Set a model configuration for the newly created project and build the model\n\n"
      ]
    },
    {
      "cell_type": "markdown",
      "metadata": {},
      "source": [
        "Create a model configuration:\n\n"
      ]
    },
    {
      "cell_type": "code",
      "execution_count": null,
      "metadata": {
        "collapsed": false
      },
      "outputs": [],
      "source": [
        "configuration = GeomAIModelConfiguration(\n    nb_epochs=2,\n    # or build_preset: 'debug', 'short', 'default' or 'long'\n    nb_latent_param=2,  # Required: Must be between 2 and 256\n)"
      ]
    },
    {
      "cell_type": "markdown",
      "metadata": {},
      "source": [
        "Build the model:\n\n"
      ]
    },
    {
      "cell_type": "code",
      "execution_count": null,
      "metadata": {
        "collapsed": false
      },
      "outputs": [],
      "source": [
        "model = simai.geomai.models.build(project, configuration)"
      ]
    },
    {
      "cell_type": "markdown",
      "metadata": {},
      "source": [
        "Print the result:\n\n"
      ]
    },
    {
      "cell_type": "code",
      "execution_count": null,
      "metadata": {
        "collapsed": false
      },
      "outputs": [],
      "source": [
        "print(f\"Model started: {model.id} in project {project.name}\")"
      ]
    }
  ],
  "metadata": {
    "kernelspec": {
      "display_name": "Python 3",
      "language": "python",
      "name": "python3"
    },
    "language_info": {
      "codemirror_mode": {
        "name": "ipython",
        "version": 3
      },
      "file_extension": ".py",
      "mimetype": "text/x-python",
      "name": "python",
      "nbconvert_exporter": "python",
      "pygments_lexer": "ipython3",
      "version": "3.13.7"
    }
  },
  "nbformat": 4,
  "nbformat_minor": 0
}