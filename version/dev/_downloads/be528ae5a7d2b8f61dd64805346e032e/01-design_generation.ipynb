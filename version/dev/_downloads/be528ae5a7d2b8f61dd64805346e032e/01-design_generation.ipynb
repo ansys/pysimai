{
  "cells": [
    {
      "cell_type": "markdown",
      "metadata": {},
      "source": [
        "\n# Script 2 - Generating new designs with the model\n\nThis example demonstrates how to generate new designs.\n\n## Before you begin\n\n- Make sure you performed \"`ref_generative_design_model_build_reuse`\".\n\nor\n\n- | Make sure you:\n  | 1. instantiated a client with GeomAI objects,\n  | 2. created a project and added training data to it,\n  | 3. created a model configuration and built a model.\n"
      ]
    },
    {
      "cell_type": "markdown",
      "metadata": {},
      "source": [
        "## Import necessary libraries\n\n"
      ]
    },
    {
      "cell_type": "code",
      "execution_count": null,
      "metadata": {
        "collapsed": false
      },
      "outputs": [],
      "source": [
        "import ansys.simai.core\nfrom ansys.simai.core.data.geomai.predictions import GeomAIPredictionConfiguration"
      ]
    },
    {
      "cell_type": "markdown",
      "metadata": {},
      "source": [
        "## Create the client\nCreate a client to use the PySimAI library. This client will be the\nentrypoint of all \"SimAI\" and \"GeomAI\" objects.\n\n"
      ]
    },
    {
      "cell_type": "code",
      "execution_count": null,
      "metadata": {
        "collapsed": false
      },
      "outputs": [],
      "source": [
        "simai = ansys.simai.core.SimAIClient(organization=\"my_organization\")\nclient = simai.geomai"
      ]
    },
    {
      "cell_type": "markdown",
      "metadata": {},
      "source": [
        "## Retrieve your workspace\nFind the workspace your model has been saved to and set it as a\ncurrent workspace:\n\n\n"
      ]
    },
    {
      "cell_type": "markdown",
      "metadata": {},
      "source": [
        "Step 1. Set the current project:\n\n"
      ]
    },
    {
      "cell_type": "code",
      "execution_count": null,
      "metadata": {
        "collapsed": false
      },
      "outputs": [],
      "source": [
        "client.set_current_project(\"new-bracket-project\")"
      ]
    },
    {
      "cell_type": "markdown",
      "metadata": {},
      "source": [
        "Step 2. Retrieve all the workspaces of the current project:\n\n"
      ]
    },
    {
      "cell_type": "code",
      "execution_count": null,
      "metadata": {
        "collapsed": false
      },
      "outputs": [],
      "source": [
        "print(client.current_project.workspaces())"
      ]
    },
    {
      "cell_type": "markdown",
      "metadata": {},
      "source": [
        "Step 3. Setting the current workspace:\n\n"
      ]
    },
    {
      "cell_type": "code",
      "execution_count": null,
      "metadata": {
        "collapsed": false
      },
      "outputs": [],
      "source": [
        "client.set_current_workspace(\"new-bracket-project #1\")\nworkspace = client.current_workspace\nprint(workspace)"
      ]
    },
    {
      "cell_type": "markdown",
      "metadata": {},
      "source": [
        "## Set up the parameters and run your prediction\n\n"
      ]
    },
    {
      "cell_type": "markdown",
      "metadata": {},
      "source": [
        "Configure the prediction:\n\n"
      ]
    },
    {
      "cell_type": "code",
      "execution_count": null,
      "metadata": {
        "collapsed": false
      },
      "outputs": [],
      "source": [
        "configuration = GeomAIPredictionConfiguration(latent_params=[1, 1], resolution=(100, 100, 100))"
      ]
    },
    {
      "cell_type": "markdown",
      "metadata": {},
      "source": [
        "Run the prediction:\n\n"
      ]
    },
    {
      "cell_type": "code",
      "execution_count": null,
      "metadata": {
        "collapsed": false
      },
      "outputs": [],
      "source": [
        "prediction = client.predictions.run(configuration, workspace)"
      ]
    },
    {
      "cell_type": "markdown",
      "metadata": {},
      "source": [
        "Check the status of your prediction:\n\n"
      ]
    },
    {
      "cell_type": "code",
      "execution_count": null,
      "metadata": {
        "collapsed": false
      },
      "outputs": [],
      "source": [
        "if prediction.is_ready:\n    print(\"\u2705 Prediction is ready!\")\nelse:\n    print(\"\u23f3 Prediction is not ready yet.\")\n\nprint(prediction)"
      ]
    },
    {
      "cell_type": "markdown",
      "metadata": {},
      "source": [
        "## Download your prediction for further analysis and visualization\nTo download your file, please indicate the ID of the prediction\nand the path to the desired storage location.\n\n\n"
      ]
    },
    {
      "cell_type": "code",
      "execution_count": null,
      "metadata": {
        "collapsed": false
      },
      "outputs": [],
      "source": [
        "print(client.predictions.list(client.workspaces.list()[0]))\n\nclient.predictions.download(\"your_prediction_id\", r\"path/to/your/predictions/folder/output1.vtp\")"
      ]
    },
    {
      "cell_type": "markdown",
      "metadata": {},
      "source": [
        "The downloaded geometry can be now used as a SimAI training data or\nas an input for the SimAI prediction!\n\n"
      ]
    }
  ],
  "metadata": {
    "kernelspec": {
      "display_name": "Python 3",
      "language": "python",
      "name": "python3"
    },
    "language_info": {
      "codemirror_mode": {
        "name": "ipython",
        "version": 3
      },
      "file_extension": ".py",
      "mimetype": "text/x-python",
      "name": "python",
      "nbconvert_exporter": "python",
      "pygments_lexer": "ipython3",
      "version": "3.13.7"
    }
  },
  "nbformat": 4,
  "nbformat_minor": 0
}